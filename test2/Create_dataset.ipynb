{
  "nbformat": 4,
  "nbformat_minor": 0,
  "metadata": {
    "colab": {
      "name": "Create-dataset.ipynb",
      "provenance": [],
      "collapsed_sections": [],
      "toc_visible": true
    },
    "kernelspec": {
      "name": "python3",
      "display_name": "Python 3"
    },
    "accelerator": "GPU"
  },
  "cells": [
    {
      "cell_type": "code",
      "metadata": {
        "id": "VpeOzle1EFcz"
      },
      "source": [
        "# !wget http://www.statmt.org/europarl/v7/europarl.tgz"
      ],
      "execution_count": 113,
      "outputs": []
    },
    {
      "cell_type": "code",
      "metadata": {
        "id": "jaMwDmuoQ6q1"
      },
      "source": [
        "# !tar zxvf europarl.tgz"
      ],
      "execution_count": 114,
      "outputs": []
    },
    {
      "cell_type": "code",
      "metadata": {
        "id": "FzyFW2M3EUdv"
      },
      "source": [
        "import os\n",
        "import re\n",
        "import nltk \n",
        "import matplotlib.pyplot as plt\n",
        "%matplotlib inline"
      ],
      "execution_count": 2,
      "outputs": []
    },
    {
      "cell_type": "code",
      "metadata": {
        "id": "r4DAc6g1S5ca"
      },
      "source": [
        "CORPUS_PATH = \"txt/en\"\n",
        "\n",
        "# Regex patterns for preprocessing\n",
        "PATTERN1 = '<[^>]+>'\n",
        "PATTERN2 = \".*?\\((.*?)\\)\""
      ],
      "execution_count": null,
      "outputs": []
    },
    {
      "cell_type": "code",
      "metadata": {
        "colab": {
          "base_uri": "https://localhost:8080/"
        },
        "id": "IIvbdT9R4uUW",
        "outputId": "24134c9c-ab62-4e7d-d6c1-b63894973112"
      },
      "source": [
        "nltk.download('punkt')"
      ],
      "execution_count": null,
      "outputs": [
        {
          "output_type": "stream",
          "text": [
            "[nltk_data] Downloading package punkt to /root/nltk_data...\n",
            "[nltk_data]   Package punkt is already up-to-date!\n"
          ],
          "name": "stdout"
        },
        {
          "output_type": "execute_result",
          "data": {
            "text/plain": [
              "True"
            ]
          },
          "metadata": {
            "tags": []
          },
          "execution_count": 5
        }
      ]
    },
    {
      "cell_type": "markdown",
      "metadata": {
        "id": "dh7im_55EZTw"
      },
      "source": [
        "## Load, explore and preprocess the corpus"
      ]
    },
    {
      "cell_type": "code",
      "metadata": {
        "id": "BSSIKpEH4qrg"
      },
      "source": [
        "def preprocess(text):\n",
        "    text = re.sub(PATTERN1, \"\", text)\n",
        "    text = re.sub(PATTERN2, \"\", text)\n",
        "    return text"
      ],
      "execution_count": null,
      "outputs": []
    },
    {
      "cell_type": "code",
      "metadata": {
        "id": "f09P4kUd45kG"
      },
      "source": [
        "files = os.listdir(CORPUS_PATH)"
      ],
      "execution_count": null,
      "outputs": []
    },
    {
      "cell_type": "code",
      "metadata": {
        "id": "Wr5OXQ_R49AM"
      },
      "source": [
        "corpus = []\n",
        "for file in files:\n",
        "    file = open(os.path.join(CORPUS_PATH, file)).read()\n",
        "    corpus.append(preprocess(file))"
      ],
      "execution_count": null,
      "outputs": []
    },
    {
      "cell_type": "code",
      "metadata": {
        "id": "2OnZaGqS49DS"
      },
      "source": [
        "lengths = [len(a) for a in corpus]"
      ],
      "execution_count": null,
      "outputs": []
    },
    {
      "cell_type": "code",
      "metadata": {
        "colab": {
          "base_uri": "https://localhost:8080/",
          "height": 307
        },
        "id": "Nidn2EVy5LHO",
        "outputId": "5fc0515d-cc84-4d02-84ab-4e74c7daf76c"
      },
      "source": [
        "fig, (ax1, ax2) = plt.subplots(2)\n",
        "fig.suptitle('Distribution of file character length')\n",
        "ax1.hist(lengths, bins =100, range=(0,100))\n",
        "ax2.hist(lengths)\n",
        "plt.xlabel(\"Number of characters\")\n",
        "plt.ylabel(\"Count\")\n",
        "plt.show()"
      ],
      "execution_count": null,
      "outputs": [
        {
          "output_type": "display_data",
          "data": {
            "image/png": "[encoded data removed]",
            "text/plain": [
              "<Figure size 432x288 with 2 Axes>"
            ]
          },
          "metadata": {
            "tags": [],
            "needs_background": "light"
          }
        }
      ]
    },
    {
      "cell_type": "markdown",
      "metadata": {
        "id": "fawNscSuEgH0"
      },
      "source": [
        "The corpus seems to have 1) many articles with <=5 characters (which can probably be discarded) and 2) a very long tail.\n",
        "\n",
        "Currently, the corpus has less than 10k rows which is not a lot, so in order to increase its size, each article will be split into sentences and each sentence will be treated as a single row. This should considerably increase the size of the dataset considering there are articles with 500k+ characters."
      ]
    },
    {
      "cell_type": "code",
      "metadata": {
        "id": "LqaLahuI-eb7"
      },
      "source": [
        "corpus = []\n",
        "for file in files:\n",
        "    file = open(os.path.join(CORPUS_PATH, file)).read()\n",
        "    file = preprocess(file)\n",
        "    for sent in nltk.tokenize.sent_tokenize(file):\n",
        "        corpus.append(sent)"
      ],
      "execution_count": null,
      "outputs": []
    },
    {
      "cell_type": "code",
      "metadata": {
        "colab": {
          "base_uri": "https://localhost:8080/"
        },
        "id": "34uXXywQ5OGU",
        "outputId": "4d9ab008-2357-47e6-94d2-32cbd0b8a679"
      },
      "source": [
        "print(\"Number of sentences in the corpus: {}\".format(len(corpus)))\n",
        "corpus[-5:]"
      ],
      "execution_count": null,
      "outputs": [
        {
          "output_type": "stream",
          "text": [
            "Number of sentences in the corpus: 2208004\n"
          ],
          "name": "stdout"
        },
        {
          "output_type": "execute_result",
          "data": {
            "text/plain": [
              "['\\nForwarding of texts adopted during the sitting: see Minutes',\n",
              " '\\n25.',\n",
              " '2006 discharge: European Agency for Reconstruction (',\n",
              " '\\n: see Minutes',\n",
              " '\\nVoting time\\n\\nThe next item is the vote.']"
            ]
          },
          "metadata": {
            "tags": []
          },
          "execution_count": 16
        }
      ]
    },
    {
      "cell_type": "markdown",
      "metadata": {
        "id": "eHxKsDW8Et9H"
      },
      "source": [
        "We don't want sentences such as '\\n25' in the corpus so we'll prune all sentences whose length is lower than 5."
      ]
    },
    {
      "cell_type": "code",
      "metadata": {
        "colab": {
          "base_uri": "https://localhost:8080/"
        },
        "id": "vRG-AAiZ5OXq",
        "outputId": "8a35caf3-bfe4-43ea-beb8-1d751cd3c62f"
      },
      "source": [
        "pruned = [s for s in corpus if len(s) >=5]\n",
        "len(pruned)"
      ],
      "execution_count": null,
      "outputs": [
        {
          "output_type": "execute_result",
          "data": {
            "text/plain": [
              "2189605"
            ]
          },
          "metadata": {
            "tags": []
          },
          "execution_count": 17
        }
      ]
    },
    {
      "cell_type": "code",
      "metadata": {
        "colab": {
          "base_uri": "https://localhost:8080/"
        },
        "id": "GTMbcDJe49JB",
        "outputId": "2f3b1a7b-63fb-47f1-cf1d-0d2c197af637"
      },
      "source": [
        "pruned[-5:]"
      ],
      "execution_count": null,
      "outputs": [
        {
          "output_type": "execute_result",
          "data": {
            "text/plain": [
              "[\"The final wording would then be 'Calls on the countries in the Six-Party Talks to continue working together to ensure that the talks on ending the DPRK nuclear programme are resumed'.\",\n",
              " '\\nForwarding of texts adopted during the sitting: see Minutes',\n",
              " '2006 discharge: European Agency for Reconstruction (',\n",
              " '\\n: see Minutes',\n",
              " '\\nVoting time\\n\\nThe next item is the vote.']"
            ]
          },
          "metadata": {
            "tags": []
          },
          "execution_count": 18
        }
      ]
    },
    {
      "cell_type": "markdown",
      "metadata": {
        "id": "9Ftd1g_HEmGq"
      },
      "source": [
        "\"'\\n: see Minutes',\" are not sentences; we can prune rows that don't end with punctuation."
      ]
    },
    {
      "cell_type": "code",
      "metadata": {
        "colab": {
          "base_uri": "https://localhost:8080/"
        },
        "id": "CcEBSYi75RoU",
        "outputId": "b4143118-7516-4a7a-a5df-1baf514c7f0e"
      },
      "source": [
        "pruned = [s for s in pruned if s.endswith('.')]\n",
        "len(pruned)"
      ],
      "execution_count": null,
      "outputs": [
        {
          "output_type": "execute_result",
          "data": {
            "text/plain": [
              "2102180"
            ]
          },
          "metadata": {
            "tags": []
          },
          "execution_count": 19
        }
      ]
    },
    {
      "cell_type": "code",
      "metadata": {
        "id": "Y3rlUUu95UAN"
      },
      "source": [
        "data = pd.Series(pruned)"
      ],
      "execution_count": null,
      "outputs": []
    },
    {
      "cell_type": "code",
      "metadata": {
        "colab": {
          "base_uri": "https://localhost:8080/"
        },
        "id": "VeBFlaxx5Zg-",
        "outputId": "f6edf2cb-8a68-41b3-c309-03f4290980f9"
      },
      "source": [
        "lens = [len(s) for s in data]\n",
        "print(\"min and max lengths: {} and {}.\".format(min(lens), max(lens)))"
      ],
      "execution_count": null,
      "outputs": [
        {
          "output_type": "stream",
          "text": [
            "min and max lengths: 1 and 6791.\n"
          ],
          "name": "stdout"
        }
      ]
    },
    {
      "cell_type": "code",
      "metadata": {
        "colab": {
          "base_uri": "https://localhost:8080/",
          "height": 294
        },
        "id": "RXilpMUW5bal",
        "outputId": "776f095e-fa6c-4f60-cc05-d7bd483904d1"
      },
      "source": [
        "plt.hist(lens, range=(0, 1000), bins=20)\n",
        "plt.title(\"Distribution of sentence lengths in the pruned corpus\")\n",
        "plt.xlabel(\"Sentence length in characters\")\n",
        "plt.ylabel(\"Count\")\n",
        "plt.show()"
      ],
      "execution_count": null,
      "outputs": [
        {
          "output_type": "display_data",
          "data": {
            "image/png": "[encoded data removed]",
            "text/plain": [
              "<Figure size 432x288 with 1 Axes>"
            ]
          },
          "metadata": {
            "tags": [],
            "needs_background": "light"
          }
        }
      ]
    },
    {
      "cell_type": "markdown",
      "metadata": {
        "id": "7szxLcpjFMvK"
      },
      "source": [
        "This distribution makes more sense.\n",
        "\n",
        "## Split the corpus into train and evaluation sets\n",
        "\n",
        "Finetuning scripts expect a single file as input, consisting of untokenized text, with one sentence per line, and one blank line between documents, so the code below saves the data like that."
      ]
    },
    {
      "cell_type": "code",
      "metadata": {
        "id": "K0kjzSNG5eVP"
      },
      "source": [
        "train_split = 0.9\n",
        "train_data_size = int(len(data)*train_split)\n",
        "\n",
        "with open(os.path.join(lm_data_dir,'train.txt') , 'w') as f:\n",
        "    for item in data[:train_data_size]:\n",
        "        f.write(\"%s\\n\" % item)\n",
        "\n",
        "with open(os.path.join(lm_data_dir,'eval.txt') , 'w') as f:\n",
        "    for item in data[train_data_size:]:\n",
        "        f.write(\"%s\\n\" % item)"
      ],
      "execution_count": null,
      "outputs": []
    },
    {
      "cell_type": "markdown",
      "metadata": {
        "id": "3fXW0oqN3FMe"
      },
      "source": [
        "#### Save train and eval files to gdrive for easier loading"
      ]
    },
    {
      "cell_type": "code",
      "metadata": {
        "colab": {
          "base_uri": "https://localhost:8080/"
        },
        "id": "1a-fl9Ry2xXK",
        "outputId": "3111c8f6-3eb2-4609-b10e-7ad74e416015"
      },
      "source": [
        "from google.colab import drive\n",
        "drive.mount('/content/gdrive')"
      ],
      "execution_count": 7,
      "outputs": [
        {
          "output_type": "stream",
          "text": [
            "Mounted at /content/gdrive\n"
          ],
          "name": "stdout"
        }
      ]
    },
    {
      "cell_type": "markdown",
      "metadata": {
        "id": "GU3WemEeYFMA"
      },
      "source": [
        "The fine-tuning script expects documents to be in a single line, with each document separated by a newline character. These files are saved on gcloud for easier access."
      ]
    },
    {
      "cell_type": "code",
      "metadata": {
        "id": "ErD6pMUz224p"
      },
      "source": [
        "with open('/content/gdrive/My Drive/train.txt', 'w') as f:\n",
        "  for item in data[:train_data_size]:\n",
        "        f.write(\"%s\\n\\n\" % item)\n",
        "\n",
        "with open('/content/gdrive/My Drive/eval.txt', 'w') as f:\n",
        "  for item in data[train_data_size:]:\n",
        "        f.write(\"%s\\n\\n\" % item)"
      ],
      "execution_count": null,
      "outputs": []
    }
  ]
}